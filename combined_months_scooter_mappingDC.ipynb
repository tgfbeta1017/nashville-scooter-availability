{
 "cells": [
  {
   "cell_type": "code",
   "execution_count": null,
   "metadata": {},
   "outputs": [],
   "source": [
    "#analysis of scooter data after calculating miles traveled by each unique scooter"
   ]
  },
  {
   "cell_type": "code",
   "execution_count": 29,
   "metadata": {},
   "outputs": [],
   "source": [
    "from shapely.geometry import Point\n",
    "import pandas as pd\n",
    "import geopandas as gpd\n",
    "import matplotlib.pyplot as plt\n",
    "import folium\n",
    "import datetime as dt\n",
    "%matplotlib inline\n",
    "import numpy as np\n",
    "from folium import plugins\n",
    "import seaborn as sns"
   ]
  },
  {
   "cell_type": "code",
   "execution_count": 30,
   "metadata": {},
   "outputs": [],
   "source": [
    "may=pd.read_csv('data/may_scooter_miles.csv')\n",
    "\n",
    "june=pd.read_csv('data/june_scooter_miles.csv')\n",
    "\n",
    "july=pd.read_csv('data/july_scooter_miles.csv')"
   ]
  },
  {
   "cell_type": "code",
   "execution_count": 74,
   "metadata": {},
   "outputs": [],
   "source": [
    "may = may.assign(Month='May')\n",
    "june = june.assign(Month='June')\n",
    "july = july.assign(Month='July')"
   ]
  },
  {
   "cell_type": "code",
   "execution_count": 119,
   "metadata": {},
   "outputs": [],
   "source": [
    "#remove outlier for may, exclude anything above 1000miles a month\n",
    "may = may[(may['Miles_traveled']<1000)]\n",
    "june = june[(june['Miles_traveled']<1000)]\n",
    "july = july[(july['Miles_traveled']<1000)]"
   ]
  },
  {
   "cell_type": "code",
   "execution_count": 156,
   "metadata": {},
   "outputs": [
    {
     "data": {
      "text/html": [
       "<div>\n",
       "<style scoped>\n",
       "    .dataframe tbody tr th:only-of-type {\n",
       "        vertical-align: middle;\n",
       "    }\n",
       "\n",
       "    .dataframe tbody tr th {\n",
       "        vertical-align: top;\n",
       "    }\n",
       "\n",
       "    .dataframe thead th {\n",
       "        text-align: right;\n",
       "    }\n",
       "</style>\n",
       "<table border=\"1\" class=\"dataframe\">\n",
       "  <thead>\n",
       "    <tr style=\"text-align: right;\">\n",
       "      <th></th>\n",
       "      <th>Unnamed: 0</th>\n",
       "      <th>May</th>\n",
       "      <th>June</th>\n",
       "      <th>July</th>\n",
       "    </tr>\n",
       "  </thead>\n",
       "  <tbody>\n",
       "    <tr>\n",
       "      <td>0</td>\n",
       "      <td>count</td>\n",
       "      <td>8285.000000</td>\n",
       "      <td>7797.000000</td>\n",
       "      <td>6771.000000</td>\n",
       "    </tr>\n",
       "    <tr>\n",
       "      <td>1</td>\n",
       "      <td>mean</td>\n",
       "      <td>46.342188</td>\n",
       "      <td>51.929617</td>\n",
       "      <td>50.368735</td>\n",
       "    </tr>\n",
       "    <tr>\n",
       "      <td>2</td>\n",
       "      <td>std</td>\n",
       "      <td>44.750177</td>\n",
       "      <td>44.803855</td>\n",
       "      <td>62.229655</td>\n",
       "    </tr>\n",
       "    <tr>\n",
       "      <td>3</td>\n",
       "      <td>min</td>\n",
       "      <td>0.000000</td>\n",
       "      <td>0.000000</td>\n",
       "      <td>0.000000</td>\n",
       "    </tr>\n",
       "    <tr>\n",
       "      <td>4</td>\n",
       "      <td>25%</td>\n",
       "      <td>17.060427</td>\n",
       "      <td>23.195093</td>\n",
       "      <td>8.615119</td>\n",
       "    </tr>\n",
       "    <tr>\n",
       "      <td>5</td>\n",
       "      <td>50%</td>\n",
       "      <td>38.847622</td>\n",
       "      <td>49.098041</td>\n",
       "      <td>34.298397</td>\n",
       "    </tr>\n",
       "    <tr>\n",
       "      <td>6</td>\n",
       "      <td>75%</td>\n",
       "      <td>64.584736</td>\n",
       "      <td>68.245839</td>\n",
       "      <td>67.690649</td>\n",
       "    </tr>\n",
       "    <tr>\n",
       "      <td>7</td>\n",
       "      <td>max</td>\n",
       "      <td>394.737747</td>\n",
       "      <td>828.471882</td>\n",
       "      <td>820.521798</td>\n",
       "    </tr>\n",
       "  </tbody>\n",
       "</table>\n",
       "</div>"
      ],
      "text/plain": [
       "  Unnamed: 0          May         June         July\n",
       "0      count  8285.000000  7797.000000  6771.000000\n",
       "1       mean    46.342188    51.929617    50.368735\n",
       "2        std    44.750177    44.803855    62.229655\n",
       "3        min     0.000000     0.000000     0.000000\n",
       "4        25%    17.060427    23.195093     8.615119\n",
       "5        50%    38.847622    49.098041    34.298397\n",
       "6        75%    64.584736    68.245839    67.690649\n",
       "7        max   394.737747   828.471882   820.521798"
      ]
     },
     "execution_count": 156,
     "metadata": {},
     "output_type": "execute_result"
    }
   ],
   "source": [
    "combined_months_stats"
   ]
  },
  {
   "cell_type": "code",
   "execution_count": 122,
   "metadata": {},
   "outputs": [
    {
     "data": {
      "image/png": "[encoded data removed]",
      "text/plain": [
       "<Figure size 1080x360 with 1 Axes>"
      ]
     },
     "metadata": {
      "needs_background": "light"
     },
     "output_type": "display_data"
    }
   ],
   "source": [
    "fig = plt.figure(figsize=(15, 5))\n",
    "sns.boxplot(x='Month',y='Miles_traveled',data=combined_months,hue='Month')\n",
    "plt.ylabel('Miles traveled')\n",
    "plt.legend(loc='upper left');"
   ]
  },
  {
   "cell_type": "code",
   "execution_count": 121,
   "metadata": {},
   "outputs": [
    {
     "data": {
      "image/png": "[encoded data removed]",
      "text/plain": [
       "<Figure size 1080x360 with 3 Axes>"
      ]
     },
     "metadata": {
      "needs_background": "light"
     },
     "output_type": "display_data"
    }
   ],
   "source": [
    "#plt scooters traveled per month\n",
    "fig = plt.figure(figsize=(15, 5))\n",
    "plt.subplot(1,3,1)\n",
    "plt.hist(may['Miles_traveled'],bins=200,color='orange')\n",
    "plt.title('May')\n",
    "plt.xlabel('Miles traveled')\n",
    "plt.ylabel('Number of Scooters')\n",
    "\n",
    "plt.subplot(1,3,2)\n",
    "plt.hist(june['Miles_traveled'],bins=200,color='green')\n",
    "plt.title('June')\n",
    "plt.xlabel('Miles traveled')\n",
    "plt.ylabel('Number of Scooters')\n",
    "\n",
    "plt.subplot(1,3,3)\n",
    "plt.hist(july['Miles_traveled'],bins = 200)\n",
    "plt.title('July');\n",
    "plt.xlabel('Miles traveled')\n",
    "plt.ylabel('Number of Scooters')\n",
    "plt.savefig('data/miles_traveled_histo.png')\n"
   ]
  },
  {
   "cell_type": "code",
   "execution_count": 157,
   "metadata": {},
   "outputs": [],
   "source": [
    "may_17 = may[(may['Miles_traveled']<17)]"
   ]
  },
  {
   "cell_type": "code",
   "execution_count": 158,
   "metadata": {},
   "outputs": [
    {
     "name": "stdout",
     "output_type": "stream",
     "text": [
      "<class 'pandas.core.frame.DataFrame'>\n",
      "Int64Index: 2064 entries, 3 to 8302\n",
      "Data columns (total 3 columns):\n",
      "sumdid            2064 non-null object\n",
      "Miles_traveled    2064 non-null float64\n",
      "Month             2064 non-null object\n",
      "dtypes: float64(1), object(2)\n",
      "memory usage: 64.5+ KB\n"
     ]
    }
   ],
   "source": [
    "may_17.info()"
   ]
  },
  {
   "cell_type": "code",
   "execution_count": null,
   "metadata": {},
   "outputs": [],
   "source": []
  }
 ],
 "metadata": {
  "kernelspec": {
   "display_name": "Python 3",
   "language": "python",
   "name": "python3"
  },
  "language_info": {
   "codemirror_mode": {
    "name": "ipython",
    "version": 3
   },
   "file_extension": ".py",
   "mimetype": "text/x-python",
   "name": "python",
   "nbconvert_exporter": "python",
   "pygments_lexer": "ipython3",
   "version": "3.6.0"
  }
 },
 "nbformat": 4,
 "nbformat_minor": 2
}
