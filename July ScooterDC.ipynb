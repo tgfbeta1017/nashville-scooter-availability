{
 "cells": [
  {
   "cell_type": "code",
   "execution_count": null,
   "metadata": {},
   "outputs": [],
   "source": [
    "#Calculating miles traveled by each scooter using functions."
   ]
  },
  {
   "cell_type": "code",
   "execution_count": 4,
   "metadata": {},
   "outputs": [
    {
     "name": "stderr",
     "output_type": "stream",
     "text": [
      "/Users/davidchung/.pyenv/versions/3.6.0/lib/python3.6/site-packages/pandas/compat/__init__.py:84: UserWarning: Could not import the lzma module. Your installed Python is incomplete. Attempting to use lzma compression will result in a RuntimeError.\n",
      "  warnings.warn(msg)\n",
      "/Users/davidchung/.pyenv/versions/3.6.0/lib/python3.6/site-packages/pandas/compat/__init__.py:84: UserWarning: Could not import the lzma module. Your installed Python is incomplete. Attempting to use lzma compression will result in a RuntimeError.\n",
      "  warnings.warn(msg)\n"
     ]
    }
   ],
   "source": [
    "from shapely.geometry import Point\n",
    "import pandas as pd\n",
    "import geopandas as gpd\n",
    "import matplotlib.pyplot as plt\n",
    "import folium\n",
    "import datetime as dt\n",
    "%matplotlib inline\n",
    "from math import sin, cos, sqrt, atan2, radians,asin\n",
    "import numpy as np\n",
    "from geopy.distance import geodesic\n"
   ]
  },
  {
   "cell_type": "code",
   "execution_count": 6,
   "metadata": {},
   "outputs": [],
   "source": [
    "july = pd.read_csv('data/july.csv')"
   ]
  },
  {
   "cell_type": "code",
   "execution_count": 7,
   "metadata": {},
   "outputs": [
    {
     "data": {
      "text/plain": [
       "array(['scooter', 'Scooter', 'bicycle'], dtype=object)"
      ]
     },
     "execution_count": 7,
     "metadata": {},
     "output_type": "execute_result"
    }
   ],
   "source": [
    "july.sumdgroup.unique()"
   ]
  },
  {
   "cell_type": "code",
   "execution_count": 8,
   "metadata": {},
   "outputs": [],
   "source": [
    "scooter = ['scooter','Scooter']\n",
    "july =july[july['sumdgroup'].isin(scooter)]\n"
   ]
  },
  {
   "cell_type": "code",
   "execution_count": 9,
   "metadata": {},
   "outputs": [],
   "source": [
    "scooter_id_list = july['sumdid'].tolist()     "
   ]
  },
  {
   "cell_type": "code",
   "execution_count": 10,
   "metadata": {},
   "outputs": [],
   "source": [
    "scoots_id= np.unique(scooter_id_list)"
   ]
  },
  {
   "cell_type": "code",
   "execution_count": 9,
   "metadata": {},
   "outputs": [],
   "source": [
    "july_concise = july[['latitude','longitude','sumdid','companyname']]\n",
    "july_concise = july_concise.sort_values(by = 'sumdid')"
   ]
  },
  {
   "cell_type": "code",
   "execution_count": 11,
   "metadata": {},
   "outputs": [],
   "source": [
    "def delta_lat(float_lat_list):\n",
    "    i = 0\n",
    "    total = 0\n",
    "\n",
    "    while len(float_lat_list)-1 > i:\n",
    "       total = total +abs(abs(float_lat_list[i+1])-abs(float_lat_list[i]))\n",
    "       i= i + 1\n",
    "\n",
    "    return total   \n",
    "\n",
    "#function to calculate total changes in longitude\n",
    "def delta_lng(float_lng_list):\n",
    "    i = 0\n",
    "    total = 0\n",
    "\n",
    "    while len(float_lng_list)-1 > i:\n",
    "       total = total + abs(abs(float_lng_list[i+1])-abs(float_lng_list[i]))\n",
    "       i= i + 1\n",
    "\n",
    "    return total   \n",
    "\n",
    "def miles_traveled(lon1,lat1,lon2,lat2):\n",
    "    \n",
    "    lon3=radians(lon1)\n",
    "    lat3=radians(lat1)\n",
    "    lon4=radians(lon2) \n",
    "    lat4=radians(lat2)\n",
    "    \n",
    "    dlon = lon4 - lon3\n",
    "    dlat = lat4 - lat3\n",
    "    a = sin(dlat / 2) ** 2 + cos(lat3) * cos(lat4) * sin(dlon / 2) ** 2\n",
    "    return 2 * 6371 * asin(sqrt(a))*0.62"
   ]
  },
  {
   "cell_type": "code",
   "execution_count": 12,
   "metadata": {},
   "outputs": [],
   "source": [
    "sumdid_count = 0\n",
    "scooter_traveled=[]\n",
    "scooter_id=[]\n",
    "\n",
    "#while loop for assigning unique scooter id     b   \n",
    "while len(scoots_id) > sumdid_count:\n",
    "    \n",
    "#it's only catching one data\n",
    "   # str_scooter_id = str(scooter_id_list[sumdid_count])\n",
    "    july2 = july[(july['sumdid'] == str(scoots_id[sumdid_count]))]#str_scooter_id)]\n",
    "\n",
    "#intialize empty list\n",
    "    lat_distance = [] #<- this is the line \n",
    "    lng_distance = [] #<-this is the line\n",
    "    \n",
    " \n",
    "    for item in july2['latitude']:\n",
    "        lat_distance.append(float(item))     \n",
    "    for item in july2['longitude']:\n",
    "        lng_distance.append(float(item))\n",
    "    \n",
    "  \n",
    "\n",
    "    change_lat = delta_lat(lat_distance)\n",
    "    change_lng = delta_lng(lng_distance)\n",
    "\n",
    "#function to calculate total miles traveled\n",
    "\n",
    "    scooter_traveled.append(miles_traveled(0,0,change_lng,change_lat))\n",
    "    scooter_id.append(scoots_id[sumdid_count])\n",
    "    #print(scooter_traveled)\n",
    "    sumdid_count = sumdid_count + 1\n"
   ]
  },
  {
   "cell_type": "code",
   "execution_count": null,
   "metadata": {},
   "outputs": [],
   "source": []
  }
 ],
 "metadata": {
  "kernelspec": {
   "display_name": "Python 3",
   "language": "python",
   "name": "python3"
  },
  "language_info": {
   "codemirror_mode": {
    "name": "ipython",
    "version": 3
   },
   "file_extension": ".py",
   "mimetype": "text/x-python",
   "name": "python",
   "nbconvert_exporter": "python",
   "pygments_lexer": "ipython3",
   "version": "3.6.0"
  }
 },
 "nbformat": 4,
 "nbformat_minor": 2
}
