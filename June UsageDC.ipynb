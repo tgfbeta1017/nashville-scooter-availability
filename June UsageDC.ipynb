{
 "cells": [
  {
   "cell_type": "code",
   "execution_count": null,
   "metadata": {},
   "outputs": [],
   "source": [
    "#Analyze scooter availability in the Month of June by day and date."
   ]
  },
  {
   "cell_type": "code",
   "execution_count": 7,
   "metadata": {},
   "outputs": [],
   "source": [
    "from shapely.geometry import Point\n",
    "import pandas as pd\n",
    "import geopandas as gpd\n",
    "import matplotlib.pyplot as plt\n",
    "import folium\n",
    "import datetime as dt\n",
    "%matplotlib inline\n",
    "import numpy as np\n",
    "from folium import plugins\n",
    "import seaborn as sns"
   ]
  },
  {
   "cell_type": "code",
   "execution_count": 8,
   "metadata": {},
   "outputs": [],
   "source": [
    "june= pd.read_csv('data/june.csv')"
   ]
  },
  {
   "cell_type": "code",
   "execution_count": 9,
   "metadata": {},
   "outputs": [],
   "source": [
    "month=[]\n",
    "day=[]\n",
    "year=[]\n",
    "june['pubdatetime'] =  pd.to_datetime(june['pubdatetime'])\n",
    "month = june['pubdatetime'].dt.month\n",
    "day= june['pubdatetime'].dt.day\n",
    "year= june['pubdatetime'].dt.year      \n",
    "\n",
    "june['Day']=pd.Series(day)\n",
    "june['Month']=pd.Series(month)"
   ]
  },
  {
   "cell_type": "code",
   "execution_count": 68,
   "metadata": {},
   "outputs": [
    {
     "data": {
      "text/plain": [
       "pubdatetime    689155\n",
       "latitude       689155\n",
       "longitude      689155\n",
       "sumdid         689155\n",
       "sumdtype       689155\n",
       "chargelevel    689138\n",
       "sumdgroup      689155\n",
       "costpermin     689155\n",
       "companyname    689155\n",
       "Day            689155\n",
       "Month          689155\n",
       "dtype: int64"
      ]
     },
     "execution_count": 68,
     "metadata": {},
     "output_type": "execute_result"
    }
   ],
   "source": [
    "june[(june['Day']==23)].count()"
   ]
  },
  {
   "cell_type": "code",
   "execution_count": 73,
   "metadata": {},
   "outputs": [],
   "source": [
    "june_temp = june"
   ]
  },
  {
   "cell_type": "code",
   "execution_count": 75,
   "metadata": {},
   "outputs": [],
   "source": [
    "june_temp=june.drop(columns=['pubdatetime','latitude','longitude','sumdtype','chargelevel','sumdgroup','costpermin','companyname','Month'])"
   ]
  },
  {
   "cell_type": "code",
   "execution_count": 77,
   "metadata": {},
   "outputs": [],
   "source": [
    "june_temp = june_temp.drop_duplicates(subset=['sumdid','Day'],keep='first')"
   ]
  },
  {
   "cell_type": "code",
   "execution_count": 86,
   "metadata": {},
   "outputs": [
    {
     "data": {
      "text/plain": [
       "7828"
      ]
     },
     "execution_count": 86,
     "metadata": {},
     "output_type": "execute_result"
    }
   ],
   "source": [
    "june['sumdid'].nunique()"
   ]
  },
  {
   "cell_type": "code",
   "execution_count": 85,
   "metadata": {},
   "outputs": [
    {
     "data": {
      "text/plain": [
       "7828"
      ]
     },
     "execution_count": 85,
     "metadata": {},
     "output_type": "execute_result"
    }
   ],
   "source": [
    "june_temp['sumdid'].nunique()"
   ]
  },
  {
   "cell_type": "code",
   "execution_count": 79,
   "metadata": {},
   "outputs": [
    {
     "data": {
      "text/plain": [
       "sumdid    5059\n",
       "Day       5059\n",
       "dtype: int64"
      ]
     },
     "execution_count": 79,
     "metadata": {},
     "output_type": "execute_result"
    }
   ],
   "source": [
    "june_temp[(june_temp['Day']==14)].count()"
   ]
  },
  {
   "cell_type": "code",
   "execution_count": 11,
   "metadata": {},
   "outputs": [],
   "source": [
    "mon = [3,10,17,24]\n",
    "tue=[4,11,18,25]\n",
    "wed = [5,12,19,26]\n",
    "thur = [6,13,20,27]\n",
    "fri=[7,14,21,28]\n",
    "sat = [1,8,15,22,29]\n",
    "sun = [2,9,16,23,30]\n",
    "\n",
    "\n",
    "Monday = june[june['Day'].isin(mon)]\n",
    "Tuesday = june[june['Day'].isin(tue)]\n",
    "Wednesday = june[june['Day'].isin(wed)]\n",
    "Thursday = june[june['Day'].isin(thur)]\n",
    "Friday = june[june['Day'].isin(fri)]\n",
    "Saturday = june[june['Day'].isin(sat)]\n",
    "Sunday = june[june['Day'].isin(sun)]"
   ]
  },
  {
   "cell_type": "code",
   "execution_count": 12,
   "metadata": {},
   "outputs": [
    {
     "name": "stderr",
     "output_type": "stream",
     "text": [
      "/Users/davidchung/.pyenv/versions/3.6.0/lib/python3.6/site-packages/ipykernel_launcher.py:1: SettingWithCopyWarning: \n",
      "A value is trying to be set on a copy of a slice from a DataFrame.\n",
      "Try using .loc[row_indexer,col_indexer] = value instead\n",
      "\n",
      "See the caveats in the documentation: http://pandas.pydata.org/pandas-docs/stable/user_guide/indexing.html#returning-a-view-versus-a-copy\n",
      "  \"\"\"Entry point for launching an IPython kernel.\n",
      "/Users/davidchung/.pyenv/versions/3.6.0/lib/python3.6/site-packages/ipykernel_launcher.py:2: SettingWithCopyWarning: \n",
      "A value is trying to be set on a copy of a slice from a DataFrame.\n",
      "Try using .loc[row_indexer,col_indexer] = value instead\n",
      "\n",
      "See the caveats in the documentation: http://pandas.pydata.org/pandas-docs/stable/user_guide/indexing.html#returning-a-view-versus-a-copy\n",
      "  \n",
      "/Users/davidchung/.pyenv/versions/3.6.0/lib/python3.6/site-packages/ipykernel_launcher.py:3: SettingWithCopyWarning: \n",
      "A value is trying to be set on a copy of a slice from a DataFrame.\n",
      "Try using .loc[row_indexer,col_indexer] = value instead\n",
      "\n",
      "See the caveats in the documentation: http://pandas.pydata.org/pandas-docs/stable/user_guide/indexing.html#returning-a-view-versus-a-copy\n",
      "  This is separate from the ipykernel package so we can avoid doing imports until\n",
      "/Users/davidchung/.pyenv/versions/3.6.0/lib/python3.6/site-packages/ipykernel_launcher.py:4: SettingWithCopyWarning: \n",
      "A value is trying to be set on a copy of a slice from a DataFrame.\n",
      "Try using .loc[row_indexer,col_indexer] = value instead\n",
      "\n",
      "See the caveats in the documentation: http://pandas.pydata.org/pandas-docs/stable/user_guide/indexing.html#returning-a-view-versus-a-copy\n",
      "  after removing the cwd from sys.path.\n",
      "/Users/davidchung/.pyenv/versions/3.6.0/lib/python3.6/site-packages/ipykernel_launcher.py:5: SettingWithCopyWarning: \n",
      "A value is trying to be set on a copy of a slice from a DataFrame.\n",
      "Try using .loc[row_indexer,col_indexer] = value instead\n",
      "\n",
      "See the caveats in the documentation: http://pandas.pydata.org/pandas-docs/stable/user_guide/indexing.html#returning-a-view-versus-a-copy\n",
      "  \"\"\"\n",
      "/Users/davidchung/.pyenv/versions/3.6.0/lib/python3.6/site-packages/ipykernel_launcher.py:6: SettingWithCopyWarning: \n",
      "A value is trying to be set on a copy of a slice from a DataFrame.\n",
      "Try using .loc[row_indexer,col_indexer] = value instead\n",
      "\n",
      "See the caveats in the documentation: http://pandas.pydata.org/pandas-docs/stable/user_guide/indexing.html#returning-a-view-versus-a-copy\n",
      "  \n",
      "/Users/davidchung/.pyenv/versions/3.6.0/lib/python3.6/site-packages/ipykernel_launcher.py:7: SettingWithCopyWarning: \n",
      "A value is trying to be set on a copy of a slice from a DataFrame.\n",
      "Try using .loc[row_indexer,col_indexer] = value instead\n",
      "\n",
      "See the caveats in the documentation: http://pandas.pydata.org/pandas-docs/stable/user_guide/indexing.html#returning-a-view-versus-a-copy\n",
      "  import sys\n"
     ]
    }
   ],
   "source": [
    "Monday['day']='Monday'\n",
    "Tuesday['day']='Tuesday'\n",
    "Wednesday['day']='Wednesday'\n",
    "Thursday['day']='Thursday'\n",
    "Friday['day']='Friday'\n",
    "Saturday['day']='Saturday'\n",
    "Sunday['day']='Sunday'"
   ]
  },
  {
   "cell_type": "code",
   "execution_count": 13,
   "metadata": {},
   "outputs": [],
   "source": [
    "Monday=Monday.drop(columns=['pubdatetime','latitude','longitude','sumdtype','chargelevel','sumdgroup','costpermin','companyname','Month'])\n",
    "Tuesday=Tuesday.drop(columns=['pubdatetime','latitude','longitude','sumdtype','chargelevel','sumdgroup','costpermin','companyname','Month'])\n",
    "Wednesday=Wednesday.drop(columns=['pubdatetime','latitude','longitude','sumdtype','chargelevel','sumdgroup','costpermin','companyname','Month'])\n",
    "Thursday=Thursday.drop(columns=['pubdatetime','latitude','longitude','sumdtype','chargelevel','sumdgroup','costpermin','companyname','Month'])\n",
    "Friday=Friday.drop(columns=['pubdatetime','latitude','longitude','sumdtype','chargelevel','sumdgroup','costpermin','companyname','Month'])\n",
    "Saturday=Saturday.drop(columns=['pubdatetime','latitude','longitude','sumdtype','chargelevel','sumdgroup','costpermin','companyname','Month'])\n",
    "Sunday=Sunday.drop(columns=['pubdatetime','latitude','longitude','sumdtype','chargelevel','sumdgroup','costpermin','companyname','Month'])\n"
   ]
  },
  {
   "cell_type": "code",
   "execution_count": 14,
   "metadata": {},
   "outputs": [],
   "source": [
    "Monday = Monday.drop_duplicates(subset=['sumdid'],keep='first')\n",
    "Tuesday = Tuesday.drop_duplicates(subset=['sumdid'],keep='first')\n",
    "Wednesday = Wednesday.drop_duplicates(subset=['sumdid'],keep='first')\n",
    "Thursday = Thursday.drop_duplicates(subset=['sumdid'],keep='first')\n",
    "Friday = Friday.drop_duplicates(subset=['sumdid'],keep='first')\n",
    "Saturday = Saturday.drop_duplicates(subset=['sumdid'],keep='first')\n",
    "Sunday = Sunday.drop_duplicates(subset=['sumdid'],keep='first')"
   ]
  },
  {
   "cell_type": "code",
   "execution_count": 92,
   "metadata": {},
   "outputs": [
    {
     "data": {
      "text/plain": [
       "7119"
      ]
     },
     "execution_count": 92,
     "metadata": {},
     "output_type": "execute_result"
    }
   ],
   "source": [
    "Wednesday['sumdid'].nunique()"
   ]
  },
  {
   "cell_type": "code",
   "execution_count": 93,
   "metadata": {},
   "outputs": [
    {
     "data": {
      "text/html": [
       "<div>\n",
       "<style scoped>\n",
       "    .dataframe tbody tr th:only-of-type {\n",
       "        vertical-align: middle;\n",
       "    }\n",
       "\n",
       "    .dataframe tbody tr th {\n",
       "        vertical-align: top;\n",
       "    }\n",
       "\n",
       "    .dataframe thead th {\n",
       "        text-align: right;\n",
       "    }\n",
       "</style>\n",
       "<table border=\"1\" class=\"dataframe\">\n",
       "  <thead>\n",
       "    <tr style=\"text-align: right;\">\n",
       "      <th></th>\n",
       "      <th>sumdid</th>\n",
       "      <th>Day</th>\n",
       "      <th>day</th>\n",
       "    </tr>\n",
       "  </thead>\n",
       "  <tbody>\n",
       "    <tr>\n",
       "      <td>3877271</td>\n",
       "      <td>Powered658786</td>\n",
       "      <td>5</td>\n",
       "      <td>Wednesday</td>\n",
       "    </tr>\n",
       "    <tr>\n",
       "      <td>3877272</td>\n",
       "      <td>Powered974900</td>\n",
       "      <td>5</td>\n",
       "      <td>Wednesday</td>\n",
       "    </tr>\n",
       "    <tr>\n",
       "      <td>3877273</td>\n",
       "      <td>Powered596850</td>\n",
       "      <td>5</td>\n",
       "      <td>Wednesday</td>\n",
       "    </tr>\n",
       "    <tr>\n",
       "      <td>3877274</td>\n",
       "      <td>Powered457194</td>\n",
       "      <td>5</td>\n",
       "      <td>Wednesday</td>\n",
       "    </tr>\n",
       "    <tr>\n",
       "      <td>3877275</td>\n",
       "      <td>Powered435826</td>\n",
       "      <td>5</td>\n",
       "      <td>Wednesday</td>\n",
       "    </tr>\n",
       "    <tr>\n",
       "      <td>...</td>\n",
       "      <td>...</td>\n",
       "      <td>...</td>\n",
       "      <td>...</td>\n",
       "    </tr>\n",
       "    <tr>\n",
       "      <td>24317167</td>\n",
       "      <td>PoweredHK4N1</td>\n",
       "      <td>26</td>\n",
       "      <td>Wednesday</td>\n",
       "    </tr>\n",
       "    <tr>\n",
       "      <td>24320849</td>\n",
       "      <td>PoweredTDTF6</td>\n",
       "      <td>26</td>\n",
       "      <td>Wednesday</td>\n",
       "    </tr>\n",
       "    <tr>\n",
       "      <td>24327911</td>\n",
       "      <td>Powered402686</td>\n",
       "      <td>26</td>\n",
       "      <td>Wednesday</td>\n",
       "    </tr>\n",
       "    <tr>\n",
       "      <td>24339320</td>\n",
       "      <td>Powered805047</td>\n",
       "      <td>26</td>\n",
       "      <td>Wednesday</td>\n",
       "    </tr>\n",
       "    <tr>\n",
       "      <td>24346867</td>\n",
       "      <td>Powered799101</td>\n",
       "      <td>26</td>\n",
       "      <td>Wednesday</td>\n",
       "    </tr>\n",
       "  </tbody>\n",
       "</table>\n",
       "<p>7119 rows × 3 columns</p>\n",
       "</div>"
      ],
      "text/plain": [
       "                 sumdid  Day        day\n",
       "3877271   Powered658786    5  Wednesday\n",
       "3877272   Powered974900    5  Wednesday\n",
       "3877273   Powered596850    5  Wednesday\n",
       "3877274   Powered457194    5  Wednesday\n",
       "3877275   Powered435826    5  Wednesday\n",
       "...                 ...  ...        ...\n",
       "24317167   PoweredHK4N1   26  Wednesday\n",
       "24320849   PoweredTDTF6   26  Wednesday\n",
       "24327911  Powered402686   26  Wednesday\n",
       "24339320  Powered805047   26  Wednesday\n",
       "24346867  Powered799101   26  Wednesday\n",
       "\n",
       "[7119 rows x 3 columns]"
      ]
     },
     "execution_count": 93,
     "metadata": {},
     "output_type": "execute_result"
    }
   ],
   "source": [
    "Wednesday"
   ]
  },
  {
   "cell_type": "code",
   "execution_count": 17,
   "metadata": {},
   "outputs": [],
   "source": [
    "#concatenate june\n",
    "d = [Monday,Tuesday,Wednesday,Thursday,Friday,Saturday,Sunday]\n",
    "june_usage = pd.concat(d)"
   ]
  },
  {
   "cell_type": "code",
   "execution_count": 18,
   "metadata": {},
   "outputs": [
    {
     "data": {
      "text/html": [
       "<div>\n",
       "<style scoped>\n",
       "    .dataframe tbody tr th:only-of-type {\n",
       "        vertical-align: middle;\n",
       "    }\n",
       "\n",
       "    .dataframe tbody tr th {\n",
       "        vertical-align: top;\n",
       "    }\n",
       "\n",
       "    .dataframe thead th {\n",
       "        text-align: right;\n",
       "    }\n",
       "</style>\n",
       "<table border=\"1\" class=\"dataframe\">\n",
       "  <thead>\n",
       "    <tr style=\"text-align: right;\">\n",
       "      <th></th>\n",
       "      <th>sumdid</th>\n",
       "      <th>Day</th>\n",
       "      <th>day</th>\n",
       "    </tr>\n",
       "  </thead>\n",
       "  <tbody>\n",
       "    <tr>\n",
       "      <td>1876557</td>\n",
       "      <td>PoweredYXBSW7L6G6ABR</td>\n",
       "      <td>3</td>\n",
       "      <td>Monday</td>\n",
       "    </tr>\n",
       "    <tr>\n",
       "      <td>1876558</td>\n",
       "      <td>PoweredNKUMT6YXFII6C</td>\n",
       "      <td>3</td>\n",
       "      <td>Monday</td>\n",
       "    </tr>\n",
       "    <tr>\n",
       "      <td>1876559</td>\n",
       "      <td>PoweredKJNZEPIJMYQ2X</td>\n",
       "      <td>3</td>\n",
       "      <td>Monday</td>\n",
       "    </tr>\n",
       "    <tr>\n",
       "      <td>1876560</td>\n",
       "      <td>PoweredO3ECDDTOIY4QL</td>\n",
       "      <td>3</td>\n",
       "      <td>Monday</td>\n",
       "    </tr>\n",
       "    <tr>\n",
       "      <td>1876561</td>\n",
       "      <td>PoweredMGEISI7XMH5YU</td>\n",
       "      <td>3</td>\n",
       "      <td>Monday</td>\n",
       "    </tr>\n",
       "    <tr>\n",
       "      <td>...</td>\n",
       "      <td>...</td>\n",
       "      <td>...</td>\n",
       "      <td>...</td>\n",
       "    </tr>\n",
       "    <tr>\n",
       "      <td>27981352</td>\n",
       "      <td>PoweredAKEA4</td>\n",
       "      <td>30</td>\n",
       "      <td>Sunday</td>\n",
       "    </tr>\n",
       "    <tr>\n",
       "      <td>28005300</td>\n",
       "      <td>Powered260618</td>\n",
       "      <td>30</td>\n",
       "      <td>Sunday</td>\n",
       "    </tr>\n",
       "    <tr>\n",
       "      <td>28012159</td>\n",
       "      <td>Powered749778</td>\n",
       "      <td>30</td>\n",
       "      <td>Sunday</td>\n",
       "    </tr>\n",
       "    <tr>\n",
       "      <td>28025864</td>\n",
       "      <td>Powered211807</td>\n",
       "      <td>30</td>\n",
       "      <td>Sunday</td>\n",
       "    </tr>\n",
       "    <tr>\n",
       "      <td>28043947</td>\n",
       "      <td>Powered255293</td>\n",
       "      <td>30</td>\n",
       "      <td>Sunday</td>\n",
       "    </tr>\n",
       "  </tbody>\n",
       "</table>\n",
       "<p>51020 rows × 3 columns</p>\n",
       "</div>"
      ],
      "text/plain": [
       "                        sumdid  Day     day\n",
       "1876557   PoweredYXBSW7L6G6ABR    3  Monday\n",
       "1876558   PoweredNKUMT6YXFII6C    3  Monday\n",
       "1876559   PoweredKJNZEPIJMYQ2X    3  Monday\n",
       "1876560   PoweredO3ECDDTOIY4QL    3  Monday\n",
       "1876561   PoweredMGEISI7XMH5YU    3  Monday\n",
       "...                        ...  ...     ...\n",
       "27981352          PoweredAKEA4   30  Sunday\n",
       "28005300         Powered260618   30  Sunday\n",
       "28012159         Powered749778   30  Sunday\n",
       "28025864         Powered211807   30  Sunday\n",
       "28043947         Powered255293   30  Sunday\n",
       "\n",
       "[51020 rows x 3 columns]"
      ]
     },
     "execution_count": 18,
     "metadata": {},
     "output_type": "execute_result"
    }
   ],
   "source": [
    "june_usage"
   ]
  },
  {
   "cell_type": "code",
   "execution_count": 19,
   "metadata": {},
   "outputs": [
    {
     "name": "stdout",
     "output_type": "stream",
     "text": [
      "[sumdid    5697\n",
      "Day       5697\n",
      "day       5697\n",
      "dtype: int64, sumdid    765\n",
      "Day       765\n",
      "day       765\n",
      "dtype: int64, sumdid    416\n",
      "Day       416\n",
      "day       416\n",
      "dtype: int64, sumdid    221\n",
      "Day       221\n",
      "day       221\n",
      "dtype: int64, sumdid    505\n",
      "Day       505\n",
      "day       505\n",
      "dtype: int64]\n"
     ]
    },
    {
     "data": {
      "text/plain": [
       "sumdid    1520.8\n",
       "Day       1520.8\n",
       "day       1520.8\n",
       "dtype: float64"
      ]
     },
     "execution_count": 19,
     "metadata": {},
     "output_type": "execute_result"
    }
   ],
   "source": [
    "# mon = [3,10,17,24]\n",
    "# tue=[4,11,18,25]\n",
    "# wed = [5,12,19,26]\n",
    "# thur = [6,13,20,27]\n",
    "# fri=[7,14,21,28]\n",
    "# sat = [1,8,15,22,29]\n",
    "# sun = [2,9,16,23,30]\n",
    "\n",
    "dates = [2,9,16,23,30]\n",
    "scooters = []\n",
    "for i in dates:\n",
    "    day_one_scooters = june_usage[(june_usage['Day']==i)]\n",
    "    \n",
    "    count_days = day_one_scooters.count()\n",
    "    scooters.append(count_days)\n",
    "print(scooters)\n",
    "sum(scooters)/len(scooters)"
   ]
  },
  {
   "cell_type": "code",
   "execution_count": 71,
   "metadata": {},
   "outputs": [
    {
     "data": {
      "text/plain": [
       "sumdid    1520.8\n",
       "Day       1520.8\n",
       "day       1520.8\n",
       "dtype: float64"
      ]
     },
     "execution_count": 71,
     "metadata": {},
     "output_type": "execute_result"
    }
   ],
   "source": [
    "july[(july['Day']==23)].count()"
   ]
  },
  {
   "cell_type": "code",
   "execution_count": 21,
   "metadata": {},
   "outputs": [],
   "source": [
    "days = ['Mon','Tue','Wed','Thur','Fri','Sat','Sun']\n",
    "Number = [1787,1783,1779,1785,1804,1531,1521]"
   ]
  },
  {
   "cell_type": "code",
   "execution_count": 22,
   "metadata": {},
   "outputs": [],
   "source": [
    "\n",
    "week_scooters = pd.DataFrame(list(zip(days, Number)), \n",
    "               columns =['Day', 'Number_of_Scooters']) "
   ]
  },
  {
   "cell_type": "code",
   "execution_count": 23,
   "metadata": {},
   "outputs": [],
   "source": [
    "week_scooters.to_csv('data/number_of_scooters_weekdays_june.csv')"
   ]
  },
  {
   "cell_type": "code",
   "execution_count": 28,
   "metadata": {},
   "outputs": [
    {
     "data": {
      "image/png": "[encoded data removed]",
      "text/plain": [
       "<Figure size 432x288 with 1 Axes>"
      ]
     },
     "metadata": {
      "needs_background": "light"
     },
     "output_type": "display_data"
    }
   ],
   "source": [
    "sns.barplot(x='Day',y='Number_of_Scooters',data=week_scooters);"
   ]
  },
  {
   "cell_type": "code",
   "execution_count": 69,
   "metadata": {},
   "outputs": [
    {
     "data": {
      "text/plain": [
       "221"
      ]
     },
     "execution_count": 69,
     "metadata": {},
     "output_type": "execute_result"
    }
   ],
   "source": [
    "len(june_usage[(june_usage['Day']==23)])"
   ]
  },
  {
   "cell_type": "code",
   "execution_count": 80,
   "metadata": {},
   "outputs": [],
   "source": [
    "date = [1,2,3,4,5,6,7,8,9,10,11,12,13,14,15,16,17,18,19,20,21,22,23,24,25,26,27,28,29,30]\n",
    "num_scooters = []\n",
    "\n",
    "for i in date:\n",
    "    day_one_scooters = len(june_temp[(june_temp['Day']==i)])\n",
    "   # count_days = day_one_scooters.count()\n",
    "    num_scooters.append(day_one_scooters)"
   ]
  },
  {
   "cell_type": "code",
   "execution_count": 81,
   "metadata": {},
   "outputs": [],
   "source": [
    "day_scooters = pd.DataFrame(list(zip(date, num_scooters)), \n",
    "               columns =['Day', 'Number_of_Scooters']) "
   ]
  },
  {
   "cell_type": "code",
   "execution_count": 82,
   "metadata": {},
   "outputs": [],
   "source": [
    "day_scooters.to_csv('data/june_daily_scooters.csv')"
   ]
  },
  {
   "cell_type": "code",
   "execution_count": 83,
   "metadata": {},
   "outputs": [
    {
     "data": {
      "image/png": "[encoded data removed]",
      "text/plain": [
       "<Figure size 432x288 with 1 Axes>"
      ]
     },
     "metadata": {
      "needs_background": "light"
     },
     "output_type": "display_data"
    }
   ],
   "source": [
    "sns.barplot(x='Day',y='Number_of_Scooters',data = day_scooters,color='lightgreen')\n",
    "plt.title('June')\n",
    "plt.xticks(rotation='vertical');"
   ]
  },
  {
   "cell_type": "code",
   "execution_count": 102,
   "metadata": {},
   "outputs": [
    {
     "data": {
      "text/plain": [
       "4977.6"
      ]
     },
     "execution_count": 102,
     "metadata": {},
     "output_type": "execute_result"
    }
   ],
   "source": [
    "mon = [3,10,17,24]\n",
    "tue=[4,11,18,25]\n",
    "wed = [5,12,19,26]\n",
    "thur = [6,13,20,27]\n",
    "fri=[7,14,21,28]\n",
    "sat = [1,8,15,22,29]\n",
    "sun = [2,9,16,23,30]\n",
    "\n",
    "hold=[]\n",
    "for i in sun:\n",
    "    hold.append(day_scooters.iloc[i-1,1])\n",
    "sum(hold)/len(hold)"
   ]
  },
  {
   "cell_type": "code",
   "execution_count": 103,
   "metadata": {},
   "outputs": [],
   "source": [
    "days = ['Mon','Tue','Wed','Thur','Fri','Sat','Sun']\n",
    "num_scoots = [5339,5256,5279,5250,4830,5166,4977]\n",
    "\n",
    "weekdays_scooters = pd.DataFrame(list(zip(days, num_scoots)), \n",
    "               columns =['Day', 'Number_of_Scooters']) "
   ]
  },
  {
   "cell_type": "code",
   "execution_count": 106,
   "metadata": {},
   "outputs": [],
   "source": [
    "weekdays_scooters.to_csv('data/number_of_scooters_weekdays_june.csv')"
   ]
  },
  {
   "cell_type": "code",
   "execution_count": null,
   "metadata": {},
   "outputs": [],
   "source": []
  },
  {
   "cell_type": "code",
   "execution_count": null,
   "metadata": {},
   "outputs": [],
   "source": []
  }
 ],
 "metadata": {
  "kernelspec": {
   "display_name": "Python 3",
   "language": "python",
   "name": "python3"
  },
  "language_info": {
   "codemirror_mode": {
    "name": "ipython",
    "version": 3
   },
   "file_extension": ".py",
   "mimetype": "text/x-python",
   "name": "python",
   "nbconvert_exporter": "python",
   "pygments_lexer": "ipython3",
   "version": "3.6.0"
  }
 },
 "nbformat": 4,
 "nbformat_minor": 2
}
