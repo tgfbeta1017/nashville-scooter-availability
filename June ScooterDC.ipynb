{
 "cells": [
  {
   "cell_type": "code",
   "execution_count": null,
   "metadata": {},
   "outputs": [],
   "source": [
    "# calculating miles traveled by unique scooters in June using functions."
   ]
  },
  {
   "cell_type": "code",
   "execution_count": 1,
   "metadata": {},
   "outputs": [
    {
     "name": "stderr",
     "output_type": "stream",
     "text": [
      "/Users/davidchung/.pyenv/versions/3.6.0/lib/python3.6/site-packages/pandas/compat/__init__.py:84: UserWarning: Could not import the lzma module. Your installed Python is incomplete. Attempting to use lzma compression will result in a RuntimeError.\n",
      "  warnings.warn(msg)\n",
      "/Users/davidchung/.pyenv/versions/3.6.0/lib/python3.6/site-packages/pandas/compat/__init__.py:84: UserWarning: Could not import the lzma module. Your installed Python is incomplete. Attempting to use lzma compression will result in a RuntimeError.\n",
      "  warnings.warn(msg)\n"
     ]
    }
   ],
   "source": [
    "from shapely.geometry import Point\n",
    "import pandas as pd\n",
    "import geopandas as gpd\n",
    "import matplotlib.pyplot as plt\n",
    "import folium\n",
    "import datetime as dt\n",
    "%matplotlib inline\n",
    "from math import sin, cos, sqrt, atan2, radians, asin\n",
    "import numpy as np\n",
    "from geopy.distance import geodesic\n"
   ]
  },
  {
   "cell_type": "code",
   "execution_count": 2,
   "metadata": {},
   "outputs": [],
   "source": [
    "june = pd.read_csv('data/june.csv')"
   ]
  },
  {
   "cell_type": "code",
   "execution_count": 23,
   "metadata": {},
   "outputs": [],
   "source": [
    "june_miles = pd.read_csv('data/june_scooter_miles.csv')"
   ]
  },
  {
   "cell_type": "code",
   "execution_count": 6,
   "metadata": {},
   "outputs": [
    {
     "data": {
      "text/plain": [
       "array(['scooter', 'Scooter', 'bicycle'], dtype=object)"
      ]
     },
     "execution_count": 6,
     "metadata": {},
     "output_type": "execute_result"
    }
   ],
   "source": [
    "june.sumdgroup.unique()"
   ]
  },
  {
   "cell_type": "code",
   "execution_count": 3,
   "metadata": {},
   "outputs": [],
   "source": [
    "scooter = ['scooter','Scooter']\n",
    "june =june[june['sumdgroup'].isin(scooter)]\n"
   ]
  },
  {
   "cell_type": "code",
   "execution_count": 4,
   "metadata": {},
   "outputs": [],
   "source": [
    "scooter_id_list = june['sumdid'].tolist()"
   ]
  },
  {
   "cell_type": "code",
   "execution_count": 5,
   "metadata": {},
   "outputs": [],
   "source": [
    "scoots_id = np.unique(scooter_id_list)"
   ]
  },
  {
   "cell_type": "code",
   "execution_count": 6,
   "metadata": {},
   "outputs": [
    {
     "data": {
      "text/plain": [
       "7822"
      ]
     },
     "execution_count": 6,
     "metadata": {},
     "output_type": "execute_result"
    }
   ],
   "source": [
    "len(scoots_id)"
   ]
  },
  {
   "cell_type": "code",
   "execution_count": 11,
   "metadata": {},
   "outputs": [],
   "source": [
    "#must sort list by sumdid, in order to acquire acurate distance traveled.\n",
    "june_concise = june[['latitude','longitude','sumdid','companyname']]\n",
    "june_concise = june_concise.sort_values(by = 'sumdid')"
   ]
  },
  {
   "cell_type": "code",
   "execution_count": 12,
   "metadata": {},
   "outputs": [],
   "source": [
    "def delta_lat(float_lat_list):\n",
    "    i = 0\n",
    "    total = 0\n",
    "\n",
    "    while len(float_lat_list)-1 > i:\n",
    "       total = total +abs(abs(float_lat_list[i+1])-abs(float_lat_list[i]))\n",
    "       i= i + 1\n",
    "\n",
    "    return total   \n",
    "\n",
    "#function to calculate total changes in longitude\n",
    "def delta_lng(float_lng_list):\n",
    "    i = 0\n",
    "    total = 0\n",
    "\n",
    "    while len(float_lng_list)-1 > i:\n",
    "       total = total + abs(abs(float_lng_list[i+1])-abs(float_lng_list[i]))\n",
    "       i= i + 1\n",
    "\n",
    "    return total   \n",
    "\n",
    "def miles_traveled(lon1,lat1,lon2,lat2):\n",
    "    \n",
    "    lon3=radians(lon1)\n",
    "    lat3=radians(lat1)\n",
    "    lon4=radians(lon2) \n",
    "    lat4=radians(lat2)\n",
    "    \n",
    "    dlon = lon4 - lon3\n",
    "    dlat = lat4 - lat3\n",
    "    a = sin(dlat / 2) ** 2 + cos(lat3) * cos(lat4) * sin(dlon / 2) ** 2\n",
    "    return 2 * 6371 * asin(sqrt(a))*0.62"
   ]
  },
  {
   "cell_type": "code",
   "execution_count": 79,
   "metadata": {},
   "outputs": [],
   "source": [
    "#initialize list and variable\n",
    "sumdid_count = 0\n",
    "scooter_traveled=[]\n",
    "scooter_id = []\n",
    "may_max_lat_list=[]\n",
    "\n",
    "#while loop for assigning unique scooter id     b   \n",
    "while len(scoots_id) > sumdid_count:\n",
    "    \n",
    "#it's only catching one data\n",
    "   # str_scooter_id = str(scooter_id_list[sumdid_count])\n",
    "    june2 = june_miles[(june_miles['sumdid'] == str(scoots_id[sumdid_count]))]#str_scooter_id)]\n",
    "\n",
    "#intialize empty list\n",
    "    lat_distance = [] #<- this is the line \n",
    "    lng_distance = [] #<-this is the line\n",
    "    \n",
    " \n",
    "    for item in june2['latitude']:\n",
    "        lat_distance.append(float(item))     \n",
    "    for item in june2['longitude']:\n",
    "        lng_distance.append(float(item))\n",
    "    \n",
    "  \n",
    "\n",
    "    change_lat = delta_lat(lat_distance)\n",
    "    change_lng = delta_lng(lng_distance)\n",
    "\n",
    "#function to calculate total miles traveled\n",
    "\n",
    "    scooter_traveled.append(miles_traveled(0,0,change_lng,change_lat))\n",
    "    scooter_id.append(scoots_id[sumdid_count])\n",
    "    #print(scooter_traveled)\n",
    "    sumdid_count = sumdid_count + 1\n"
   ]
  },
  {
   "cell_type": "code",
   "execution_count": 7,
   "metadata": {},
   "outputs": [],
   "source": [
    "#calculate average positions of each scooter\n",
    "\n",
    "def average_position(position):\n",
    "    \n",
    "    sum = 0\n",
    "    \n",
    "    for num in position:\n",
    "        sum = sum + num\n",
    "    \n",
    "    return sum/len(position)\n",
    "\n",
    "\n"
   ]
  },
  {
   "cell_type": "code",
   "execution_count": 11,
   "metadata": {},
   "outputs": [],
   "source": [
    "#average lat and lng for low mile scooters, since they are not \n",
    "#moving alot averaging position to make it one position in map\n",
    "sumdid_count = 0\n",
    "scooter_average_position_lat = []\n",
    "scooter_average_position_lng = []\n",
    "scooter_id=[]\n",
    "while len(scoots_id)>sumdid_count:\n",
    "    \n",
    "   # create list of specific scooter id\n",
    "    june_list = june[(june['sumdid'] == str(scoots_id[sumdid_count]))]#str_scooter_id)]\n",
    "\n",
    "    \n",
    "    #initialize empty list\n",
    "    lat_distance = [] #<- this is the line \n",
    "    lng_distance = [] #<-this is the line\n",
    "    \n",
    "     #iterate through each scooter's lat and lng and add to array\n",
    "    for item in june_list['latitude']:\n",
    "        lat_distance.append(float(item))     \n",
    "    for item in june_list['longitude']:\n",
    "        lng_distance.append(float(item))\n",
    "    #calculate average lat and lng for each scooter\n",
    "    average_lat_pos = average_position(lat_distance)\n",
    "    average_lng_pos = average_position(lng_distance)          \n",
    "    \n",
    "    #add average lat and lng into new list\n",
    "    scooter_average_position_lat.append(float(average_lat_pos))\n",
    "    scooter_average_position_lng.append(float(average_lng_pos))\n",
    "    scooter_id.append(scoots_id[sumdid_count])\n",
    "    sumdid_count = sumdid_count+1\n",
    "    "
   ]
  },
  {
   "cell_type": "code",
   "execution_count": 12,
   "metadata": {},
   "outputs": [],
   "source": [
    "scooter_id = pd.DataFrame(scooter_id)\n",
    "scooter_lat = pd.DataFrame(scooter_average_position_lat)\n",
    "scooter_lng = pd.DataFrame(scooter_average_position_lng)\n",
    "\n",
    "scooter_id = scooter_id.rename(columns = {0:'sumdid'})\n",
    "scooter_lat = scooter_lat.rename(columns={0:'latitude'})\n",
    "scooter_lng = scooter_lng.rename(columns={0:'longitude'})\n",
    "\n",
    "temp = pd.merge(scooter_id,scooter_lat,how='outer',left_index=True,right_index=True)\n",
    "inactive_scooter_pos = pd.merge(temp,scooter_lng,how='outer',left_index=True,right_index=True)\n",
    "inactive_scooters = pd.merge(inactive_scooter_pos,low_miles_scooters,on=['sumdid'],how='outer')"
   ]
  },
  {
   "cell_type": "code",
   "execution_count": 13,
   "metadata": {},
   "outputs": [],
   "source": [
    "low_miles_scooters = pd.read_csv('data/june_scooter_miles.csv')"
   ]
  },
  {
   "cell_type": "code",
   "execution_count": 14,
   "metadata": {},
   "outputs": [],
   "source": [
    "inactive_scooters = pd.merge(inactive_scooter_pos,low_miles_scooters,on=['sumdid'],how='outer')"
   ]
  },
  {
   "cell_type": "code",
   "execution_count": 17,
   "metadata": {},
   "outputs": [],
   "source": [
    "inactive_scooters.to_csv('data/inactive_scooters_position_june.csv')"
   ]
  },
  {
   "cell_type": "code",
   "execution_count": 19,
   "metadata": {},
   "outputs": [
    {
     "data": {
      "text/html": [
       "<div>\n",
       "<style scoped>\n",
       "    .dataframe tbody tr th:only-of-type {\n",
       "        vertical-align: middle;\n",
       "    }\n",
       "\n",
       "    .dataframe tbody tr th {\n",
       "        vertical-align: top;\n",
       "    }\n",
       "\n",
       "    .dataframe thead th {\n",
       "        text-align: right;\n",
       "    }\n",
       "</style>\n",
       "<table border=\"1\" class=\"dataframe\">\n",
       "  <thead>\n",
       "    <tr style=\"text-align: right;\">\n",
       "      <th></th>\n",
       "      <th>sumdid</th>\n",
       "      <th>latitude</th>\n",
       "      <th>longitude</th>\n",
       "      <th>Unnamed: 0</th>\n",
       "      <th>Miles_traveled</th>\n",
       "    </tr>\n",
       "  </thead>\n",
       "  <tbody>\n",
       "    <tr>\n",
       "      <td>0</td>\n",
       "      <td>Powered-017d3133-f14a-2b83-ee4f-d777e7c5b619</td>\n",
       "      <td>36.154141</td>\n",
       "      <td>-86.781196</td>\n",
       "      <td>0</td>\n",
       "      <td>56.542984</td>\n",
       "    </tr>\n",
       "    <tr>\n",
       "      <td>1</td>\n",
       "      <td>Powered-01a24436-0315-e1bb-7ce0-d081d05dff7d</td>\n",
       "      <td>36.161103</td>\n",
       "      <td>-86.787872</td>\n",
       "      <td>1</td>\n",
       "      <td>51.545579</td>\n",
       "    </tr>\n",
       "    <tr>\n",
       "      <td>2</td>\n",
       "      <td>Powered-03be23ca-d43b-222f-be54-e44b5b4690df</td>\n",
       "      <td>36.156918</td>\n",
       "      <td>-86.777882</td>\n",
       "      <td>2</td>\n",
       "      <td>66.012982</td>\n",
       "    </tr>\n",
       "    <tr>\n",
       "      <td>3</td>\n",
       "      <td>Powered-046201fb-6532-1f37-6334-3612fb1e61f7</td>\n",
       "      <td>36.158447</td>\n",
       "      <td>-86.782852</td>\n",
       "      <td>3</td>\n",
       "      <td>81.440421</td>\n",
       "    </tr>\n",
       "    <tr>\n",
       "      <td>4</td>\n",
       "      <td>Powered-0479bb84-afbd-0426-f1c4-df628542a88c</td>\n",
       "      <td>36.167397</td>\n",
       "      <td>-86.769893</td>\n",
       "      <td>4</td>\n",
       "      <td>62.884069</td>\n",
       "    </tr>\n",
       "  </tbody>\n",
       "</table>\n",
       "</div>"
      ],
      "text/plain": [
       "                                         sumdid   latitude  longitude  \\\n",
       "0  Powered-017d3133-f14a-2b83-ee4f-d777e7c5b619  36.154141 -86.781196   \n",
       "1  Powered-01a24436-0315-e1bb-7ce0-d081d05dff7d  36.161103 -86.787872   \n",
       "2  Powered-03be23ca-d43b-222f-be54-e44b5b4690df  36.156918 -86.777882   \n",
       "3  Powered-046201fb-6532-1f37-6334-3612fb1e61f7  36.158447 -86.782852   \n",
       "4  Powered-0479bb84-afbd-0426-f1c4-df628542a88c  36.167397 -86.769893   \n",
       "\n",
       "   Unnamed: 0  Miles_traveled  \n",
       "0           0       56.542984  \n",
       "1           1       51.545579  \n",
       "2           2       66.012982  \n",
       "3           3       81.440421  \n",
       "4           4       62.884069  "
      ]
     },
     "execution_count": 19,
     "metadata": {},
     "output_type": "execute_result"
    }
   ],
   "source": [
    "inactive_scooters.head()"
   ]
  },
  {
   "cell_type": "code",
   "execution_count": null,
   "metadata": {},
   "outputs": [],
   "source": []
  }
 ],
 "metadata": {
  "kernelspec": {
   "display_name": "Python 3",
   "language": "python",
   "name": "python3"
  },
  "language_info": {
   "codemirror_mode": {
    "name": "ipython",
    "version": 3
   },
   "file_extension": ".py",
   "mimetype": "text/x-python",
   "name": "python",
   "nbconvert_exporter": "python",
   "pygments_lexer": "ipython3",
   "version": "3.6.0"
  }
 },
 "nbformat": 4,
 "nbformat_minor": 2
}
