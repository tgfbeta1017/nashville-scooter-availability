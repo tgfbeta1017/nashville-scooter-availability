{
 "cells": [
  {
   "cell_type": "code",
   "execution_count": null,
   "metadata": {},
   "outputs": [],
   "source": [
    "#clean up data for in order to create datafram to use in heatmapwithtime function."
   ]
  },
  {
   "cell_type": "code",
   "execution_count": 1,
   "metadata": {},
   "outputs": [
    {
     "name": "stderr",
     "output_type": "stream",
     "text": [
      "/Users/davidchung/.pyenv/versions/3.6.0/lib/python3.6/site-packages/pandas/compat/__init__.py:84: UserWarning: Could not import the lzma module. Your installed Python is incomplete. Attempting to use lzma compression will result in a RuntimeError.\n",
      "  warnings.warn(msg)\n",
      "/Users/davidchung/.pyenv/versions/3.6.0/lib/python3.6/site-packages/pandas/compat/__init__.py:84: UserWarning: Could not import the lzma module. Your installed Python is incomplete. Attempting to use lzma compression will result in a RuntimeError.\n",
      "  warnings.warn(msg)\n"
     ]
    }
   ],
   "source": [
    "from shapely.geometry import Point\n",
    "import pandas as pd\n",
    "import geopandas as gpd\n",
    "import matplotlib.pyplot as plt\n",
    "import folium\n",
    "import itertools\n",
    "import numpy as np"
   ]
  },
  {
   "cell_type": "code",
   "execution_count": 2,
   "metadata": {},
   "outputs": [],
   "source": [
    "import pickle\n",
    "\n",
    "\n",
    "with open('data/may.pkl', 'rb') as f:\n",
    "    may_data = pickle.load(f)"
   ]
  },
  {
   "cell_type": "code",
   "execution_count": 3,
   "metadata": {},
   "outputs": [],
   "source": [
    "zipcode = gpd.read_file('./data/zipcode.geojson')"
   ]
  },
  {
   "cell_type": "code",
   "execution_count": 4,
   "metadata": {},
   "outputs": [],
   "source": [
    "nash= zipcode[(zipcode['po_name'])=='NASHVILLE']"
   ]
  },
  {
   "cell_type": "code",
   "execution_count": 5,
   "metadata": {},
   "outputs": [],
   "source": [
    "may_scooter_geo = gpd.GeoDataFrame(may_data,crs=nash.crs,geometry=may_data['start_geo'])"
   ]
  },
  {
   "cell_type": "code",
   "execution_count": 6,
   "metadata": {},
   "outputs": [],
   "source": [
    "nash_may_scooter=gpd.sjoin(may_scooter_geo,nash,op='within')"
   ]
  },
  {
   "cell_type": "code",
   "execution_count": 7,
   "metadata": {},
   "outputs": [],
   "source": [
    "#making list of Days for heatmapwithtime\n",
    "may_days =nash_may_scooter[['sumdID', 'zip','Day']]"
   ]
  },
  {
   "cell_type": "code",
   "execution_count": 8,
   "metadata": {},
   "outputs": [],
   "source": [
    "z_code=[37216,37204,37221,37212,37209,37206,37217,37207,37219,37218,37232,37213,37205,37203,37201,37214,37240,37208,37207,37215,37228,37210,37211,37220]\n",
    "z_code_lat=[36.216580,36.106735,36.051294,36.133877,36.185400,36.179319,36.108666,36.233774,36.166811,\n",
    "36.164095,36.1426,36.166156,36.113195,36.149614,36.166001,36.162189,36.144893,36.177714,36.233774,36.081868,36.196931,36.149263,36.067234,36.068447]\n",
    "z_code_lng=[-86.726854,-86.774283,-86.968798,-86.801254,-86.948570,-86.731083,-86.656722,-86.775969,-86.783177,\n",
    "-86.889416,-86.8001,-86.767542,-86.870442,-86.790618,-86.777305,-86.670867,-86.805471,-86.808023,-86.775969,-86.834691,-86.803372,-86.732969,-86.723711,-86.793127]"
   ]
  },
  {
   "cell_type": "code",
   "execution_count": 9,
   "metadata": {},
   "outputs": [],
   "source": [
    "may_zip_code = pd.DataFrame(list(zip(z_code,z_code_lat,z_code_lng)),columns=['zip','latitude','longitude'])"
   ]
  },
  {
   "cell_type": "code",
   "execution_count": 15,
   "metadata": {},
   "outputs": [
    {
     "name": "stderr",
     "output_type": "stream",
     "text": [
      "/Users/davidchung/.pyenv/versions/3.6.0/lib/python3.6/site-packages/ipykernel_launcher.py:1: SettingWithCopyWarning: \n",
      "A value is trying to be set on a copy of a slice from a DataFrame.\n",
      "Try using .loc[row_indexer,col_indexer] = value instead\n",
      "\n",
      "See the caveats in the documentation: http://pandas.pydata.org/pandas-docs/stable/user_guide/indexing.html#returning-a-view-versus-a-copy\n",
      "  \"\"\"Entry point for launching an IPython kernel.\n"
     ]
    }
   ],
   "source": [
    "#merging column must be same data type.\n",
    "may_days['zip']=may_days['zip'].astype(int)"
   ]
  },
  {
   "cell_type": "code",
   "execution_count": 16,
   "metadata": {},
   "outputs": [],
   "source": [
    "#merge two dataframe\n",
    "may_days = may_days.merge(may_zip_code,on='zip',how='outer')\n"
   ]
  },
  {
   "cell_type": "code",
   "execution_count": 18,
   "metadata": {},
   "outputs": [],
   "source": [
    "may_days_pivot=may_days.pivot_table(values='sumdID',index='zip',columns='Day',aggfunc='count',fill_value=0)"
   ]
  },
  {
   "cell_type": "code",
   "execution_count": 20,
   "metadata": {},
   "outputs": [],
   "source": [
    "#back to dataframe ->required for individual column names\n",
    "zip_weight_days = pd.DataFrame(may_days_pivot.to_records())"
   ]
  },
  {
   "cell_type": "code",
   "execution_count": 21,
   "metadata": {},
   "outputs": [
    {
     "data": {
      "text/html": [
       "<div>\n",
       "<style scoped>\n",
       "    .dataframe tbody tr th:only-of-type {\n",
       "        vertical-align: middle;\n",
       "    }\n",
       "\n",
       "    .dataframe tbody tr th {\n",
       "        vertical-align: top;\n",
       "    }\n",
       "\n",
       "    .dataframe thead th {\n",
       "        text-align: right;\n",
       "    }\n",
       "</style>\n",
       "<table border=\"1\" class=\"dataframe\">\n",
       "  <thead>\n",
       "    <tr style=\"text-align: right;\">\n",
       "      <th></th>\n",
       "      <th>zip</th>\n",
       "      <th>1</th>\n",
       "      <th>2</th>\n",
       "      <th>3</th>\n",
       "      <th>4</th>\n",
       "      <th>5</th>\n",
       "      <th>6</th>\n",
       "      <th>7</th>\n",
       "      <th>8</th>\n",
       "      <th>9</th>\n",
       "      <th>...</th>\n",
       "      <th>22</th>\n",
       "      <th>23</th>\n",
       "      <th>24</th>\n",
       "      <th>25</th>\n",
       "      <th>26</th>\n",
       "      <th>27</th>\n",
       "      <th>28</th>\n",
       "      <th>29</th>\n",
       "      <th>30</th>\n",
       "      <th>31</th>\n",
       "    </tr>\n",
       "  </thead>\n",
       "  <tbody>\n",
       "    <tr>\n",
       "      <td>0</td>\n",
       "      <td>37201</td>\n",
       "      <td>349</td>\n",
       "      <td>864</td>\n",
       "      <td>1123</td>\n",
       "      <td>1177</td>\n",
       "      <td>1200</td>\n",
       "      <td>1135</td>\n",
       "      <td>941</td>\n",
       "      <td>771</td>\n",
       "      <td>635</td>\n",
       "      <td>...</td>\n",
       "      <td>757</td>\n",
       "      <td>882</td>\n",
       "      <td>1193</td>\n",
       "      <td>2284</td>\n",
       "      <td>2455</td>\n",
       "      <td>1778</td>\n",
       "      <td>1057</td>\n",
       "      <td>698</td>\n",
       "      <td>585</td>\n",
       "      <td>845</td>\n",
       "    </tr>\n",
       "    <tr>\n",
       "      <td>1</td>\n",
       "      <td>37203</td>\n",
       "      <td>874</td>\n",
       "      <td>2318</td>\n",
       "      <td>3023</td>\n",
       "      <td>3795</td>\n",
       "      <td>3540</td>\n",
       "      <td>2815</td>\n",
       "      <td>2401</td>\n",
       "      <td>2222</td>\n",
       "      <td>1628</td>\n",
       "      <td>...</td>\n",
       "      <td>1608</td>\n",
       "      <td>1914</td>\n",
       "      <td>3025</td>\n",
       "      <td>5713</td>\n",
       "      <td>5377</td>\n",
       "      <td>3936</td>\n",
       "      <td>2163</td>\n",
       "      <td>1574</td>\n",
       "      <td>1665</td>\n",
       "      <td>2519</td>\n",
       "    </tr>\n",
       "    <tr>\n",
       "      <td>2</td>\n",
       "      <td>37204</td>\n",
       "      <td>25</td>\n",
       "      <td>159</td>\n",
       "      <td>133</td>\n",
       "      <td>1150</td>\n",
       "      <td>351</td>\n",
       "      <td>119</td>\n",
       "      <td>132</td>\n",
       "      <td>110</td>\n",
       "      <td>173</td>\n",
       "      <td>...</td>\n",
       "      <td>650</td>\n",
       "      <td>337</td>\n",
       "      <td>748</td>\n",
       "      <td>925</td>\n",
       "      <td>950</td>\n",
       "      <td>331</td>\n",
       "      <td>133</td>\n",
       "      <td>125</td>\n",
       "      <td>498</td>\n",
       "      <td>617</td>\n",
       "    </tr>\n",
       "    <tr>\n",
       "      <td>3</td>\n",
       "      <td>37205</td>\n",
       "      <td>1</td>\n",
       "      <td>3</td>\n",
       "      <td>8</td>\n",
       "      <td>31</td>\n",
       "      <td>6</td>\n",
       "      <td>2</td>\n",
       "      <td>0</td>\n",
       "      <td>2</td>\n",
       "      <td>1</td>\n",
       "      <td>...</td>\n",
       "      <td>8</td>\n",
       "      <td>3</td>\n",
       "      <td>18</td>\n",
       "      <td>8</td>\n",
       "      <td>8</td>\n",
       "      <td>5</td>\n",
       "      <td>2</td>\n",
       "      <td>0</td>\n",
       "      <td>0</td>\n",
       "      <td>0</td>\n",
       "    </tr>\n",
       "    <tr>\n",
       "      <td>4</td>\n",
       "      <td>37206</td>\n",
       "      <td>52</td>\n",
       "      <td>259</td>\n",
       "      <td>316</td>\n",
       "      <td>303</td>\n",
       "      <td>334</td>\n",
       "      <td>266</td>\n",
       "      <td>241</td>\n",
       "      <td>212</td>\n",
       "      <td>214</td>\n",
       "      <td>...</td>\n",
       "      <td>134</td>\n",
       "      <td>191</td>\n",
       "      <td>240</td>\n",
       "      <td>394</td>\n",
       "      <td>427</td>\n",
       "      <td>410</td>\n",
       "      <td>224</td>\n",
       "      <td>170</td>\n",
       "      <td>183</td>\n",
       "      <td>237</td>\n",
       "    </tr>\n",
       "  </tbody>\n",
       "</table>\n",
       "<p>5 rows × 32 columns</p>\n",
       "</div>"
      ],
      "text/plain": [
       "     zip    1     2     3     4     5     6     7     8     9  ...    22  \\\n",
       "0  37201  349   864  1123  1177  1200  1135   941   771   635  ...   757   \n",
       "1  37203  874  2318  3023  3795  3540  2815  2401  2222  1628  ...  1608   \n",
       "2  37204   25   159   133  1150   351   119   132   110   173  ...   650   \n",
       "3  37205    1     3     8    31     6     2     0     2     1  ...     8   \n",
       "4  37206   52   259   316   303   334   266   241   212   214  ...   134   \n",
       "\n",
       "     23    24    25    26    27    28    29    30    31  \n",
       "0   882  1193  2284  2455  1778  1057   698   585   845  \n",
       "1  1914  3025  5713  5377  3936  2163  1574  1665  2519  \n",
       "2   337   748   925   950   331   133   125   498   617  \n",
       "3     3    18     8     8     5     2     0     0     0  \n",
       "4   191   240   394   427   410   224   170   183   237  \n",
       "\n",
       "[5 rows x 32 columns]"
      ]
     },
     "execution_count": 21,
     "metadata": {},
     "output_type": "execute_result"
    }
   ],
   "source": [
    "zip_weight_days.head()"
   ]
  },
  {
   "cell_type": "code",
   "execution_count": null,
   "metadata": {},
   "outputs": [],
   "source": [
    "#mini function to change column names and add 'weight' column\n",
    "i=0\n",
    "while i >=31:\n",
    "    zipps = 'zipp'+str(i)\n",
    "    position = str(i)\n",
    "    zipps=zip_weight_days[['zip',position]]\n",
    "    zipps=zipps.rename(columns={position:'weight'})\n",
    "    zipps['Day']=i\n",
    "    i=i+1\n",
    "    \n",
    "zip31=zipps"
   ]
  },
  {
   "cell_type": "code",
   "execution_count": null,
   "metadata": {},
   "outputs": [],
   "source": [
    "#create df with inner, df with day1, day2....\n",
    "may_heat = may_days\n",
    "may_heat = may_heat.sort_values(by=['zip','Day'])\n",
    "may_heat_merged=may_heat.merge(zip1,on=['zip','Day'],how='inner')"
   ]
  },
  {
   "cell_type": "code",
   "execution_count": null,
   "metadata": {},
   "outputs": [],
   "source": [
    "#concatenate all dataframes\n",
    "may_heat_weighted = pd.concat([may_heat_merged1, may_heat_merged2,may_heat_merged3,may_heat_merged4,may_heat_merged5,\n",
    "          may_heat_merged6,may_heat_merged7,may_heat_merged8,may_heat_merged9,may_heat_merged10,\n",
    "          may_heat_merged11,may_heat_merged12,may_heat_merged13,may_heat_merged14,may_heat_merged15,\n",
    "          may_heat_merged16,may_heat_merged17,may_heat_merged18,may_heat_merged19,may_heat_merged20,\n",
    "          may_heat_merged21,may_heat_merged22,may_heat_merged23,may_heat_merged24,may_heat_merged25,\n",
    "           may_heat_merged26,may_heat_merged27,may_heat_merged28,may_heat_merged29,may_heat_merged30,\n",
    "          may_heat_merged31], ignore_index=True)"
   ]
  }
 ],
 "metadata": {
  "kernelspec": {
   "display_name": "Python 3",
   "language": "python",
   "name": "python3"
  },
  "language_info": {
   "codemirror_mode": {
    "name": "ipython",
    "version": 3
   },
   "file_extension": ".py",
   "mimetype": "text/x-python",
   "name": "python",
   "nbconvert_exporter": "python",
   "pygments_lexer": "ipython3",
   "version": "3.6.0"
  }
 },
 "nbformat": 4,
 "nbformat_minor": 2
}
